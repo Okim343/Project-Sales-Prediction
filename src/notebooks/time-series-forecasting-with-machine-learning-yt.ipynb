{
 "cells": [
  {
   "cell_type": "markdown",
   "id": "0",
   "metadata": {
    "_cell_guid": "b1076dfc-b9ad-4769-8c92-a6c4dae69d19",
    "_uuid": "8f2839f25d086af736a60e9eeb907d3b93b6e0e5",
    "papermill": {
     "duration": 0.008028,
     "end_time": "2022-07-05T14:49:40.021433",
     "exception": false,
     "start_time": "2022-07-05T14:49:40.013405",
     "status": "completed"
    },
    "tags": []
   },
   "source": [
    "# Time Series Forecasting Youtube Tutorial\n",
    "## Using Machine Learning to Forecast Energy Consumption\n",
    "\n",
    "This notebook is accompanied by a Youtube tutorial.\n",
    "\n",
    "[WATCH THE VIDEO HERE](https://youtu.be/vV12dGe_Fho)\n",
    "\n",
    "[You can find it on my channel here!](https://www.youtube.com/channel/UCxladMszXan-jfgzyeIMyvw)\n",
    "\n",
    "![](https://res.cloudinary.com/monday-blogs/w_768,h_384,c_fit/fl_lossy,f_auto,q_auto/wp-blog/2021/05/sales-forecasting-software.jpg)"
   ]
  },
  {
   "cell_type": "code",
   "execution_count": null,
   "id": "1",
   "metadata": {
    "papermill": {
     "duration": 1.431176,
     "end_time": "2022-07-05T14:49:41.459708",
     "exception": false,
     "start_time": "2022-07-05T14:49:40.028532",
     "status": "completed"
    },
    "tags": []
   },
   "outputs": [],
   "source": [
    "import pandas as pd\n",
    "import numpy as np\n",
    "import matplotlib.pyplot as plt\n",
    "import seaborn as sns\n",
    "\n",
    "import xgboost as xgb\n",
    "from sklearn.metrics import mean_squared_error\n",
    "\n",
    "color_pal = sns.color_palette()\n",
    "plt.style.use(\"fivethirtyeight\")"
   ]
  },
  {
   "cell_type": "markdown",
   "id": "2",
   "metadata": {
    "papermill": {
     "duration": 0.006594,
     "end_time": "2022-07-05T14:49:41.473507",
     "exception": false,
     "start_time": "2022-07-05T14:49:41.466913",
     "status": "completed"
    },
    "tags": []
   },
   "source": [
    "## Types of Time Series Data\n",
    "\n",
    "![](https://miro.medium.com/max/1400/1*V_RKPeIxCB9CS_2SsLyKXw.jpeg)\n",
    "\n",
    "reference: https://engineering.99x.io/time-series-forecasting-in-machine-learning-3972f7a7a467"
   ]
  },
  {
   "cell_type": "code",
   "execution_count": null,
   "id": "3",
   "metadata": {
    "papermill": {
     "duration": 0.249992,
     "end_time": "2022-07-05T14:49:41.730501",
     "exception": false,
     "start_time": "2022-07-05T14:49:41.480509",
     "status": "completed"
    },
    "tags": []
   },
   "outputs": [],
   "source": [
    "df = pd.read_csv(\"../input/hourly-energy-consumption/PJME_hourly.csv\")\n",
    "df = df.set_index(\"Datetime\")\n",
    "df.index = pd.to_datetime(df.index)"
   ]
  },
  {
   "cell_type": "code",
   "execution_count": null,
   "id": "4",
   "metadata": {
    "papermill": {
     "duration": 1.395894,
     "end_time": "2022-07-05T14:49:43.133488",
     "exception": false,
     "start_time": "2022-07-05T14:49:41.737594",
     "status": "completed"
    },
    "tags": []
   },
   "outputs": [],
   "source": [
    "df.plot(style=\".\", figsize=(15, 5), color=color_pal[0], title=\"PJME Energy Use in MW\")\n",
    "plt.show()"
   ]
  },
  {
   "cell_type": "markdown",
   "id": "5",
   "metadata": {
    "papermill": {
     "duration": 0.008015,
     "end_time": "2022-07-05T14:49:43.150149",
     "exception": false,
     "start_time": "2022-07-05T14:49:43.142134",
     "status": "completed"
    },
    "tags": []
   },
   "source": [
    "# Train / Test Split"
   ]
  },
  {
   "cell_type": "code",
   "execution_count": null,
   "id": "6",
   "metadata": {
    "papermill": {
     "duration": 1.95336,
     "end_time": "2022-07-05T14:49:45.111787",
     "exception": false,
     "start_time": "2022-07-05T14:49:43.158427",
     "status": "completed"
    },
    "tags": []
   },
   "outputs": [],
   "source": [
    "train = df.loc[df.index < \"01-01-2015\"]\n",
    "test = df.loc[df.index >= \"01-01-2015\"]\n",
    "\n",
    "fig, ax = plt.subplots(figsize=(15, 5))\n",
    "train.plot(ax=ax, label=\"Training Set\", title=\"Data Train/Test Split\")\n",
    "test.plot(ax=ax, label=\"Test Set\")\n",
    "ax.axvline(\"01-01-2015\", color=\"black\", ls=\"--\")\n",
    "ax.legend([\"Training Set\", \"Test Set\"])\n",
    "plt.show()"
   ]
  },
  {
   "cell_type": "code",
   "execution_count": null,
   "id": "7",
   "metadata": {
    "papermill": {
     "duration": 0.266345,
     "end_time": "2022-07-05T14:49:45.387468",
     "exception": false,
     "start_time": "2022-07-05T14:49:45.121123",
     "status": "completed"
    },
    "tags": []
   },
   "outputs": [],
   "source": [
    "df.loc[(df.index > \"01-01-2010\") & (df.index < \"01-08-2010\")].plot(\n",
    "    figsize=(15, 5), title=\"Week Of Data\"\n",
    ")\n",
    "plt.show()"
   ]
  },
  {
   "cell_type": "markdown",
   "id": "8",
   "metadata": {
    "papermill": {
     "duration": 0.009814,
     "end_time": "2022-07-05T14:49:45.407566",
     "exception": false,
     "start_time": "2022-07-05T14:49:45.397752",
     "status": "completed"
    },
    "tags": []
   },
   "source": [
    "# Feature Creation"
   ]
  },
  {
   "cell_type": "code",
   "execution_count": null,
   "id": "9",
   "metadata": {
    "papermill": {
     "duration": 0.186611,
     "end_time": "2022-07-05T14:49:45.604832",
     "exception": false,
     "start_time": "2022-07-05T14:49:45.418221",
     "status": "completed"
    },
    "tags": []
   },
   "outputs": [],
   "source": [
    "def create_features(df):\n",
    "    \"\"\"\n",
    "    Create time series features based on time series index.\n",
    "    \"\"\"\n",
    "    df = df.copy()\n",
    "    df[\"hour\"] = df.index.hour\n",
    "    df[\"dayofweek\"] = df.index.dayofweek\n",
    "    df[\"quarter\"] = df.index.quarter\n",
    "    df[\"month\"] = df.index.month\n",
    "    df[\"year\"] = df.index.year\n",
    "    df[\"dayofyear\"] = df.index.dayofyear\n",
    "    df[\"dayofmonth\"] = df.index.day\n",
    "    df[\"weekofyear\"] = df.index.isocalendar().week\n",
    "    return df\n",
    "\n",
    "\n",
    "df = create_features(df)"
   ]
  },
  {
   "cell_type": "markdown",
   "id": "10",
   "metadata": {
    "papermill": {
     "duration": 0.010383,
     "end_time": "2022-07-05T14:49:45.625175",
     "exception": false,
     "start_time": "2022-07-05T14:49:45.614792",
     "status": "completed"
    },
    "tags": []
   },
   "source": [
    "# Visualize our Feature / Target Relationship"
   ]
  },
  {
   "cell_type": "code",
   "execution_count": null,
   "id": "11",
   "metadata": {
    "papermill": {
     "duration": 0.577083,
     "end_time": "2022-07-05T14:49:46.212508",
     "exception": false,
     "start_time": "2022-07-05T14:49:45.635425",
     "status": "completed"
    },
    "tags": []
   },
   "outputs": [],
   "source": [
    "fig, ax = plt.subplots(figsize=(10, 8))\n",
    "sns.boxplot(data=df, x=\"hour\", y=\"PJME_MW\")\n",
    "ax.set_title(\"MW by Hour\")\n",
    "plt.show()"
   ]
  },
  {
   "cell_type": "code",
   "execution_count": null,
   "id": "12",
   "metadata": {
    "papermill": {
     "duration": 0.391176,
     "end_time": "2022-07-05T14:49:46.614381",
     "exception": false,
     "start_time": "2022-07-05T14:49:46.223205",
     "status": "completed"
    },
    "tags": []
   },
   "outputs": [],
   "source": [
    "fig, ax = plt.subplots(figsize=(10, 8))\n",
    "sns.boxplot(data=df, x=\"month\", y=\"PJME_MW\", palette=\"Blues\")\n",
    "ax.set_title(\"MW by Month\")\n",
    "plt.show()"
   ]
  },
  {
   "cell_type": "markdown",
   "id": "13",
   "metadata": {
    "papermill": {
     "duration": 0.010945,
     "end_time": "2022-07-05T14:49:46.636956",
     "exception": false,
     "start_time": "2022-07-05T14:49:46.626011",
     "status": "completed"
    },
    "tags": []
   },
   "source": [
    "# Create our Model"
   ]
  },
  {
   "cell_type": "code",
   "execution_count": null,
   "id": "14",
   "metadata": {
    "papermill": {
     "duration": 0.20116,
     "end_time": "2022-07-05T14:49:46.849298",
     "exception": false,
     "start_time": "2022-07-05T14:49:46.648138",
     "status": "completed"
    },
    "tags": []
   },
   "outputs": [],
   "source": [
    "train = create_features(train)\n",
    "test = create_features(test)\n",
    "\n",
    "FEATURES = [\"dayofyear\", \"hour\", \"dayofweek\", \"quarter\", \"month\", \"year\"]\n",
    "TARGET = \"PJME_MW\"\n",
    "\n",
    "X_train = train[FEATURES]\n",
    "y_train = train[TARGET]\n",
    "\n",
    "X_test = test[FEATURES]\n",
    "y_test = test[TARGET]"
   ]
  },
  {
   "cell_type": "code",
   "execution_count": null,
   "id": "15",
   "metadata": {
    "papermill": {
     "duration": 26.75173,
     "end_time": "2022-07-05T14:50:13.612588",
     "exception": false,
     "start_time": "2022-07-05T14:49:46.860858",
     "status": "completed"
    },
    "tags": []
   },
   "outputs": [],
   "source": [
    "reg = xgb.XGBRegressor(\n",
    "    base_score=0.5,\n",
    "    booster=\"gbtree\",\n",
    "    n_estimators=1000,\n",
    "    early_stopping_rounds=50,\n",
    "    objective=\"reg:linear\",\n",
    "    max_depth=3,\n",
    "    learning_rate=0.01,\n",
    ")\n",
    "reg.fit(X_train, y_train, eval_set=[(X_train, y_train), (X_test, y_test)], verbose=100)"
   ]
  },
  {
   "cell_type": "markdown",
   "id": "16",
   "metadata": {
    "papermill": {
     "duration": 0.012097,
     "end_time": "2022-07-05T14:50:13.636564",
     "exception": false,
     "start_time": "2022-07-05T14:50:13.624467",
     "status": "completed"
    },
    "tags": []
   },
   "source": [
    "# Feature Importance"
   ]
  },
  {
   "cell_type": "code",
   "execution_count": null,
   "id": "17",
   "metadata": {
    "papermill": {
     "duration": 0.22845,
     "end_time": "2022-07-05T14:50:13.877111",
     "exception": false,
     "start_time": "2022-07-05T14:50:13.648661",
     "status": "completed"
    },
    "tags": []
   },
   "outputs": [],
   "source": [
    "fi = pd.DataFrame(\n",
    "    data=reg.feature_importances_, index=reg.feature_names_in_, columns=[\"importance\"]\n",
    ")\n",
    "fi.sort_values(\"importance\").plot(kind=\"barh\", title=\"Feature Importance\")\n",
    "plt.show()"
   ]
  },
  {
   "cell_type": "markdown",
   "id": "18",
   "metadata": {
    "papermill": {
     "duration": 0.012188,
     "end_time": "2022-07-05T14:50:13.901939",
     "exception": false,
     "start_time": "2022-07-05T14:50:13.889751",
     "status": "completed"
    },
    "tags": []
   },
   "source": [
    "# Forecast on Test"
   ]
  },
  {
   "cell_type": "code",
   "execution_count": null,
   "id": "19",
   "metadata": {
    "papermill": {
     "duration": 3.885446,
     "end_time": "2022-07-05T14:50:17.799940",
     "exception": false,
     "start_time": "2022-07-05T14:50:13.914494",
     "status": "completed"
    },
    "tags": []
   },
   "outputs": [],
   "source": [
    "test[\"prediction\"] = reg.predict(X_test)\n",
    "df = df.merge(test[[\"prediction\"]], how=\"left\", left_index=True, right_index=True)\n",
    "ax = df[[\"PJME_MW\"]].plot(figsize=(15, 5))\n",
    "df[\"prediction\"].plot(ax=ax, style=\".\")\n",
    "plt.legend([\"Truth Data\", \"Predictions\"])\n",
    "ax.set_title(\"Raw Dat and Prediction\")\n",
    "plt.show()"
   ]
  },
  {
   "cell_type": "code",
   "execution_count": null,
   "id": "20",
   "metadata": {
    "papermill": {
     "duration": 0.279996,
     "end_time": "2022-07-05T14:50:18.093473",
     "exception": false,
     "start_time": "2022-07-05T14:50:17.813477",
     "status": "completed"
    },
    "tags": []
   },
   "outputs": [],
   "source": [
    "ax = df.loc[(df.index > \"04-01-2018\") & (df.index < \"04-08-2018\")][\"PJME_MW\"].plot(\n",
    "    figsize=(15, 5), title=\"Week Of Data\"\n",
    ")\n",
    "df.loc[(df.index > \"04-01-2018\") & (df.index < \"04-08-2018\")][\"prediction\"].plot(\n",
    "    style=\".\"\n",
    ")\n",
    "plt.legend([\"Truth Data\", \"Prediction\"])\n",
    "plt.show()"
   ]
  },
  {
   "cell_type": "markdown",
   "id": "21",
   "metadata": {
    "papermill": {
     "duration": 0.014338,
     "end_time": "2022-07-05T14:50:18.122461",
     "exception": false,
     "start_time": "2022-07-05T14:50:18.108123",
     "status": "completed"
    },
    "tags": []
   },
   "source": [
    "# Score (RMSE)"
   ]
  },
  {
   "cell_type": "code",
   "execution_count": null,
   "id": "22",
   "metadata": {
    "papermill": {
     "duration": 0.026642,
     "end_time": "2022-07-05T14:50:18.164035",
     "exception": false,
     "start_time": "2022-07-05T14:50:18.137393",
     "status": "completed"
    },
    "tags": []
   },
   "outputs": [],
   "source": [
    "score = np.sqrt(mean_squared_error(test[\"PJME_MW\"], test[\"prediction\"]))\n",
    "print(f\"RMSE Score on Test set: {score:0.2f}\")"
   ]
  },
  {
   "cell_type": "markdown",
   "id": "23",
   "metadata": {
    "papermill": {
     "duration": 0.014983,
     "end_time": "2022-07-05T14:50:18.194478",
     "exception": false,
     "start_time": "2022-07-05T14:50:18.179495",
     "status": "completed"
    },
    "tags": []
   },
   "source": [
    "# Calculate Error\n",
    "- Look at the worst and best predicted days"
   ]
  },
  {
   "cell_type": "code",
   "execution_count": null,
   "id": "24",
   "metadata": {
    "papermill": {
     "duration": 0.06133,
     "end_time": "2022-07-05T14:50:18.271408",
     "exception": false,
     "start_time": "2022-07-05T14:50:18.210078",
     "status": "completed"
    },
    "tags": []
   },
   "outputs": [],
   "source": [
    "test[\"error\"] = np.abs(test[TARGET] - test[\"prediction\"])\n",
    "test[\"date\"] = test.index.date\n",
    "test.groupby([\"date\"])[\"error\"].mean().sort_values(ascending=False).head(10)"
   ]
  },
  {
   "cell_type": "markdown",
   "id": "25",
   "metadata": {
    "papermill": {
     "duration": 0.015442,
     "end_time": "2022-07-05T14:50:18.302044",
     "exception": false,
     "start_time": "2022-07-05T14:50:18.286602",
     "status": "completed"
    },
    "tags": []
   },
   "source": [
    "# Next Steps\n",
    "- More robust cross validation\n",
    "- Add more features (weather forecast, holidays)"
   ]
  },
  {
   "cell_type": "markdown",
   "id": "26",
   "metadata": {
    "papermill": {
     "duration": 0.014828,
     "end_time": "2022-07-05T14:50:18.332328",
     "exception": false,
     "start_time": "2022-07-05T14:50:18.317500",
     "status": "completed"
    },
    "tags": []
   },
   "source": [
    "# The End"
   ]
  }
 ],
 "metadata": {
  "language_info": {
   "codemirror_mode": {
    "name": "ipython",
    "version": 3
   },
   "file_extension": ".py",
   "mimetype": "text/x-python",
   "name": "python",
   "nbconvert_exporter": "python",
   "pygments_lexer": "ipython3"
  },
  "papermill": {
   "default_parameters": {},
   "duration": 48.956079,
   "end_time": "2022-07-05T14:50:19.170306",
   "environment_variables": {},
   "exception": null,
   "input_path": "__notebook__.ipynb",
   "output_path": "__notebook__.ipynb",
   "parameters": {},
   "start_time": "2022-07-05T14:49:30.214227",
   "version": "2.3.4"
  }
 },
 "nbformat": 4,
 "nbformat_minor": 5
}
