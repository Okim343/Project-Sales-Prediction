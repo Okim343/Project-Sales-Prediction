{
 "cells": [
  {
   "cell_type": "code",
   "execution_count": null,
   "metadata": {},
   "outputs": [],
   "source": [
    "import pandas as pd\n",
    "import matplotlib.pyplot as plt\n",
    "import seaborn as sns\n",
    "from pathlib import Path\n",
    "import xgboost as xgb\n",
    "\n",
    "pd.options.mode.copy_on_write = True\n",
    "pd.options.future.infer_string = True\n",
    "pd.options.plotting.backend = \"plotly\""
   ]
  },
  {
   "cell_type": "code",
   "execution_count": null,
   "metadata": {},
   "outputs": [],
   "source": [
    "## extract path to Data_Sources directory where all the raw data is located and path to Cleaned_Data:\n",
    "\n",
    "# path to current directory\n",
    "this_dir = Path(\".\")\n",
    "this_dir = this_dir.resolve()\n",
    "\n",
    "\n",
    "# extract path of the Data_Sources directory\n",
    "data_dir = this_dir / \"Data_Thiago\"\n",
    "\n",
    "\n",
    "df = pd.read_excel(data_dir / \"greycom_sales_noOut.xlsx\")"
   ]
  },
  {
   "cell_type": "code",
   "execution_count": null,
   "metadata": {},
   "outputs": [],
   "source": [
    "df.head()"
   ]
  },
  {
   "cell_type": "code",
   "execution_count": null,
   "metadata": {},
   "outputs": [],
   "source": [
    "# rename columns to something more understandable\n",
    "df.rename(columns={\"DataEmissao\": \"date\", \"Qtd\": \"quant\"}, inplace=True)\n",
    "\n",
    "# convert date column to datetime type\n",
    "df[\"date\"] = pd.to_datetime(df.date)"
   ]
  },
  {
   "cell_type": "code",
   "execution_count": null,
   "metadata": {},
   "outputs": [],
   "source": [
    "df[\"day_of_week\"] = df[\"date\"].dt.day_name()"
   ]
  },
  {
   "cell_type": "code",
   "execution_count": null,
   "metadata": {},
   "outputs": [],
   "source": [
    "# show result\n",
    "df.head()"
   ]
  },
  {
   "cell_type": "code",
   "execution_count": null,
   "metadata": {},
   "outputs": [],
   "source": [
    "# set date as index\n",
    "# df.set_index('date', inplace=True)"
   ]
  },
  {
   "cell_type": "markdown",
   "metadata": {},
   "source": [
    "### Visualizing the time series"
   ]
  },
  {
   "cell_type": "code",
   "execution_count": null,
   "metadata": {},
   "outputs": [],
   "source": [
    "df_grey = df"
   ]
  },
  {
   "cell_type": "code",
   "execution_count": null,
   "metadata": {},
   "outputs": [],
   "source": [
    "plt.figure(figsize=(10, 4))\n",
    "plt.plot(df_grey.quant)\n",
    "plt.title(\"Sales Over Time\", fontsize=20)\n",
    "plt.ylabel(\"Quantity Sold\", fontsize=16)\n",
    "for month in range(2024, 2024):\n",
    "    plt.axvline(\n",
    "        pd.to_datetime(str(month) + \"-01-01\"), color=\"k\", linestyle=\"--\", alpha=0.2\n",
    "    )"
   ]
  },
  {
   "cell_type": "markdown",
   "metadata": {},
   "source": [
    "### Visualizing average quantity sold per day"
   ]
  },
  {
   "cell_type": "code",
   "execution_count": null,
   "metadata": {},
   "outputs": [],
   "source": [
    "average_quant_per_day = df_grey.groupby(\"day_of_week\")[\"quant\"].mean().reset_index()\n",
    "\n",
    "# Display the result\n",
    "print(average_quant_per_day)"
   ]
  },
  {
   "cell_type": "markdown",
   "metadata": {},
   "source": [
    "Monday - 4.426265\n",
    "Tuesday - 4.546310\n",
    "Wednesday - 4.292638\n",
    "Thursday - 4.393133\n",
    "Friday - 4.315834\n",
    "Saturday - 3.468034\n",
    "Sunday - 3.149514\n",
    "\n",
    "\n"
   ]
  },
  {
   "cell_type": "code",
   "execution_count": null,
   "metadata": {},
   "outputs": [],
   "source": [
    "# Define the order for the days of the week\n",
    "day_order = [\n",
    "    \"Sunday\",\n",
    "    \"Monday\",\n",
    "    \"Tuesday\",\n",
    "    \"Wednesday\",\n",
    "    \"Thursday\",\n",
    "    \"Friday\",\n",
    "    \"Saturday\",\n",
    "]\n",
    "\n",
    "# Convert 'day_of_week' to a categorical type with the specified order\n",
    "average_quant_per_day[\"day_of_week\"] = pd.Categorical(\n",
    "    average_quant_per_day[\"day_of_week\"], categories=day_order, ordered=True\n",
    ")\n",
    "\n",
    "# Sort the DataFrame by the ordered 'day_of_week'\n",
    "average_quant_per_day = average_quant_per_day.sort_values(\"day_of_week\")"
   ]
  },
  {
   "cell_type": "code",
   "execution_count": null,
   "metadata": {},
   "outputs": [],
   "source": [
    "average_quant_per_day.set_index(\"day_of_week\", inplace=True)\n",
    "plt.plot(average_quant_per_day)"
   ]
  },
  {
   "cell_type": "markdown",
   "metadata": {},
   "source": [
    "### Trying to collapse all products"
   ]
  },
  {
   "cell_type": "code",
   "execution_count": null,
   "metadata": {},
   "outputs": [],
   "source": [
    "df_collapsed = df.groupby([\"SKU\", \"date\"], as_index=False).agg({\"quant\": \"sum\"})"
   ]
  },
  {
   "cell_type": "code",
   "execution_count": null,
   "metadata": {},
   "outputs": [],
   "source": [
    "# Number of unique SKU values\n",
    "\n",
    "unique_SKUs = df_collapsed[\"SKU\"].nunique()\n",
    "print(unique_SKUs)"
   ]
  },
  {
   "cell_type": "code",
   "execution_count": null,
   "metadata": {},
   "outputs": [],
   "source": [
    "df_collapsed.set_index(\"date\", inplace=True)"
   ]
  },
  {
   "cell_type": "code",
   "execution_count": null,
   "metadata": {},
   "outputs": [],
   "source": [
    "plt.plot(df_collapsed.quant)"
   ]
  },
  {
   "cell_type": "markdown",
   "metadata": {},
   "source": [
    "## Analyzing for an arbitrary SKU\n"
   ]
  },
  {
   "cell_type": "markdown",
   "metadata": {},
   "source": [
    "- List of SKUs: 'AWR1-110X74', 'TC193', '100X150T27,0M', 'TC225', 'MO300', 'PD589','TC251', 'MO251', 'MO307', 'PD587', 'TC240', 'TC212', 'PD588',\n",
    "       'TC213', 'MO222', 'AC021', 'HC034', 'FLASH', 'I8', 'MP4200','I9FULL', 'L42PROFULL', 'RE020', 'ALBUMCOPA', 'CE071', 'P9076',\n",
    "       'TC183', 'PRIX3PLUS', 'TC231', 'ES288', 'ES290', 'AKM610','ZSTXCIANO', 'AMW50', 'SHIELD', 'AKB867', 'PRIX4UNO', 'TC065',\n",
    "       'TC202', 'CAPAKZ', 'ZSTXROXOMIC', 'LM2596', 'MO212', 'SE226','BE01', 'PRIX3FITNOVA', 'TC297', 'MO380', 'EL250', 'MO381','LED.3MM.LARANJA', '40X40X1TX20M', '40X40X1TX21M', 'MO290',\n",
    "       'MO382', 'LED.5MM.RGB', 'ES289', 'RE506', 'AMU81','LED.5MM.VERMELHO', 'AC166', 'LED.3MM.RGB', 'PH049',\n",
    "       'COUCHE100x150', 'L42PRO', 'L42DT', 'RA011', 'TC299', 'SP172','RA038', 'TC284', 'AWE69US', 'BR520', 'RA039', '34x23x3C31M','PH317', 'MO386', 'ZSTXROXO', '2099300kg', 'BR400I', 'P9091',\n",
    "       'P9134', 'SP050', 'LED.5MM.DIF.VERDE', 'LED.5MM.DIF.VERMELHO','LED.5MM.DIF.AMARELO', 'TC298', 'RA040', 'TSB966', 'PLACAPICKIT',\n",
    "       'AC285', 'VSI410', 'EL8600', 'TC250', 'TC270', 'MO277', 'P9142','P9145', '9094PLUS', '40x25x2C40M', 'AMB582', 'MC164', 'TC144',\n",
    "       'AC125', 'QLGCSA3KG', 'QLGCSA10.1KG', 'QLARMG15KG', 'QSADRP10.1KG','QSGCS10.1KG', 'QSGCF10.1KG', 'QGARP10KG', 'QSS7RP10.1KG',\n",
    "       'QLFRP10.1KG', 'QLARPF15KG', 'QGGCDDM10.1KG', 'QSS7RP3KG','QGGAMDC10.1KG', 'QLGA10.1KG', 'QSFRP10.1KG', 'QSFRP1KG',\n",
    "       'QGARMG15KG', 'QSGA10.1KG', 'QSDATAR3KG', 'QSARP3KG', 'QLGC10.1KG','SP009', 'QLGA3KG', 'QLARPF10.1KG', 'MO255', 'TC262', 'TC193bu',\n",
    "       'MO241', 'PH367', 'AWE83US', 'TC154', 'TC234', 'SP166', 'TC269','QAC15KG', 'TC268', 'AC027', 'AC279', 'QGGFCL10.1KG', 'TC294',\n",
    "       'SP144', 'MO331', 'QGGCMC10.1KG', 'QSLATRS3KG', 'QSFRMG10.1KG','MO384'"
   ]
  },
  {
   "cell_type": "code",
   "execution_count": null,
   "metadata": {},
   "outputs": [],
   "source": [
    "df_s = df[df[\"SKU\"] == \"TC251\"]\n",
    "sku = df_s.iloc[0, 0]\n",
    "df_s"
   ]
  },
  {
   "cell_type": "code",
   "execution_count": null,
   "metadata": {},
   "outputs": [],
   "source": [
    "df_c_s = df_s.groupby([\"SKU\", \"date\"], as_index=False).agg({\"quant\": \"sum\"})"
   ]
  },
  {
   "cell_type": "code",
   "execution_count": null,
   "metadata": {},
   "outputs": [],
   "source": [
    "df_c_s.set_index(\"date\", inplace=True)\n",
    "df_c_s.index = pd.to_datetime(df_c_s.index)"
   ]
  },
  {
   "cell_type": "code",
   "execution_count": null,
   "metadata": {},
   "outputs": [],
   "source": [
    "df_c_s"
   ]
  },
  {
   "cell_type": "code",
   "execution_count": null,
   "metadata": {},
   "outputs": [],
   "source": [
    "# Whole time period obbservations\n",
    "\n",
    "plt.plot(df_c_s.quant)"
   ]
  },
  {
   "cell_type": "code",
   "execution_count": null,
   "metadata": {},
   "outputs": [],
   "source": [
    "# Arbitrary time period\n",
    "\n",
    "df_c_s[\"quant\"].loc[(df_c_s.index > \"2024-02-20\") & (df_c_s.index < \"2024-08-02\")].plot(\n",
    "    figsize=(15, 5), title=\"From 04 to 08\"\n",
    ")\n",
    "plt.show()"
   ]
  },
  {
   "cell_type": "markdown",
   "metadata": {},
   "source": [
    "## Feature Creation and splitting the data"
   ]
  },
  {
   "cell_type": "code",
   "execution_count": null,
   "metadata": {},
   "outputs": [],
   "source": [
    "def create_features(df):\n",
    "    \"\"\"\n",
    "    Create time series features based on time series index.\n",
    "    \"\"\"\n",
    "    df = df.copy()\n",
    "    df[\"lag_1\"] = df[\"quant\"].shift(1)\n",
    "    df[\"rolling_mean_3\"] = df[\"quant\"].rolling(window=3).mean()\n",
    "    df[\"dayofweek\"] = df.index.dayofweek\n",
    "    # df['quarter'] = df.index.quarter\n",
    "    # df['month'] = df.index.month\n",
    "    # df['year'] = df.index.year\n",
    "    # df['dayofyear'] = df.index.dayofyear\n",
    "    df[\"dayofmonth\"] = df.index.day\n",
    "    # df['weekofyear'] = df.index.isocalendar().week\n",
    "    return df\n",
    "\n",
    "\n",
    "df_c_s = create_features(df_c_s)"
   ]
  },
  {
   "cell_type": "code",
   "execution_count": null,
   "metadata": {},
   "outputs": [],
   "source": [
    "df_c_s"
   ]
  },
  {
   "cell_type": "code",
   "execution_count": null,
   "metadata": {},
   "outputs": [],
   "source": [
    "df_c_s = df_c_s.loc[(df_c_s.index > \"2024-02-20\")].copy()"
   ]
  },
  {
   "cell_type": "code",
   "execution_count": null,
   "metadata": {},
   "outputs": [],
   "source": [
    "train = df_c_s.loc[df_c_s.index < \"2024-07-01\"]\n",
    "test = df_c_s.loc[df_c_s.index >= \"2024-07-01\"]\n",
    "\n",
    "fig, ax = plt.subplots(figsize=(15, 5))\n",
    "train[\"quant\"].plot(ax=ax, label=\"Training Set\", title=\"Data Train/Test Split\")\n",
    "test[\"quant\"].plot(ax=ax, label=\"Test Set\")\n",
    "ax.axvline(\"2024-07-01\", color=\"black\", ls=\"--\")\n",
    "ax.legend([\"Training Set\", \"Test Set\"])\n",
    "plt.show()"
   ]
  },
  {
   "cell_type": "markdown",
   "metadata": {},
   "source": [
    "## Visualizing relationship between features"
   ]
  },
  {
   "cell_type": "code",
   "execution_count": null,
   "metadata": {},
   "outputs": [],
   "source": [
    "fig, ax = plt.subplots(figsize=(10, 8))\n",
    "sns.boxplot(data=df_c_s, x=\"dayofweek\", y=\"quant\")\n",
    "ax.set_title(\"Quantity Sold by Day of the week\")\n",
    "plt.show()"
   ]
  },
  {
   "cell_type": "code",
   "execution_count": null,
   "metadata": {},
   "outputs": [],
   "source": [
    "fig, ax = plt.subplots(figsize=(10, 8))\n",
    "sns.boxplot(data=df_c_s, x=\"dayofmonth\", y=\"quant\")\n",
    "ax.set_title(\"Quantity Sold by Day of the month\")\n",
    "plt.show()"
   ]
  },
  {
   "cell_type": "markdown",
   "metadata": {},
   "source": [
    "## Training the model"
   ]
  },
  {
   "cell_type": "code",
   "execution_count": null,
   "metadata": {},
   "outputs": [],
   "source": [
    "color_pal = sns.color_palette()\n",
    "plt.style.use(\"fivethirtyeight\")"
   ]
  },
  {
   "cell_type": "code",
   "execution_count": null,
   "metadata": {},
   "outputs": [],
   "source": [
    "train = create_features(train)\n",
    "test = create_features(test)\n",
    "\n",
    "FEATURES = [\"dayofweek\", \"dayofmonth\", \"rolling_mean_3\", \"lag_1\"]\n",
    "TARGET = \"quant\"\n",
    "\n",
    "X_train = train[FEATURES]\n",
    "y_train = train[TARGET]\n",
    "\n",
    "X_test = test[FEATURES]\n",
    "y_test = test[TARGET]"
   ]
  },
  {
   "cell_type": "code",
   "execution_count": null,
   "metadata": {},
   "outputs": [],
   "source": [
    "reg = xgb.XGBRegressor(\n",
    "    base_score=0.5,\n",
    "    booster=\"gbtree\",\n",
    "    n_estimators=1000,\n",
    "    early_stopping_rounds=50,\n",
    "    objective=\"reg:linear\",\n",
    "    max_depth=3,\n",
    "    learning_rate=0.01,\n",
    ")\n",
    "reg.fit(X_train, y_train, eval_set=[(X_train, y_train), (X_test, y_test)], verbose=100)"
   ]
  },
  {
   "cell_type": "markdown",
   "metadata": {},
   "source": [
    "## Feature Importance"
   ]
  },
  {
   "cell_type": "code",
   "execution_count": null,
   "metadata": {},
   "outputs": [],
   "source": [
    "fi = pd.DataFrame(\n",
    "    data=reg.feature_importances_, index=reg.feature_names_in_, columns=[\"importance\"]\n",
    ")\n",
    "fi.sort_values(\"importance\").plot(kind=\"barh\", title=\"Feature Importance\")\n",
    "plt.show()"
   ]
  },
  {
   "cell_type": "markdown",
   "metadata": {},
   "source": [
    "## Test predictions with actual data"
   ]
  },
  {
   "cell_type": "code",
   "execution_count": null,
   "metadata": {},
   "outputs": [],
   "source": [
    "test[\"prediction\"] = reg.predict(X_test)\n",
    "df = df_c_s.merge(test[[\"prediction\"]], how=\"left\", left_index=True, right_index=True)\n",
    "ax = df[[\"quant\"]].plot(figsize=(15, 5))\n",
    "df[\"prediction\"].plot(ax=ax)\n",
    "plt.legend([\"Truth Data\", \"Predictions\"])\n",
    "ax.axvline(\"2024-07-01\", color=\"black\", ls=\"--\")\n",
    "ax.set_title(f\"Predicted Sales for SKU: {sku}\")\n",
    "plt.show()"
   ]
  },
  {
   "cell_type": "markdown",
   "metadata": {},
   "source": [
    "# Additional advanced methods"
   ]
  },
  {
   "cell_type": "markdown",
   "metadata": {},
   "source": [
    "## Outlier Removal (manually)"
   ]
  },
  {
   "cell_type": "code",
   "execution_count": null,
   "metadata": {},
   "outputs": [],
   "source": [
    "# df_c_tc[\"quant\"].plot(kind=\"hist\", bins=100)\n",
    "\n",
    "# values bigger than 250 seem to be the rarest/non-predictable"
   ]
  },
  {
   "cell_type": "code",
   "execution_count": null,
   "metadata": {},
   "outputs": [],
   "source": [
    "# Checking for outlier above 250\n",
    "\n",
    "# df_c_tc.query(\"quant > 200\")[\"quant\"].plot(\n",
    "#   style=\".\", figsize=(15, 5), color=color_pal[5], title=\"Outliers\"\n",
    "# )"
   ]
  },
  {
   "cell_type": "code",
   "execution_count": null,
   "metadata": {},
   "outputs": [],
   "source": [
    "# df_c_tc = df_c_tc.query(\"quant < 250\").copy()  # removing the outliers"
   ]
  }
 ],
 "metadata": {
  "language_info": {
   "codemirror_mode": {
    "name": "ipython",
    "version": 3
   },
   "file_extension": ".py",
   "mimetype": "text/x-python",
   "name": "python",
   "nbconvert_exporter": "python",
   "pygments_lexer": "ipython3"
  }
 },
 "nbformat": 4,
 "nbformat_minor": 2
}
